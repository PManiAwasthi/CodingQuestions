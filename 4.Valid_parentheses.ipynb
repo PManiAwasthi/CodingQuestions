{
 "cells": [
  {
   "cell_type": "markdown",
   "id": "d9455ae8-7251-4221-8b8c-40b059381eb4",
   "metadata": {},
   "source": [
    "### Valid Parentheses\n",
    "Given a string s containing just the characters '(', ')', '{', '}', '[' and ']', determine if the input string is valid.\n",
    "\n",
    "<br>\n",
    "\n",
    "<div>\n",
    "    An input string is valid if:\n",
    "</div>\n",
    "<ul>\n",
    "    <li>Open brackets must be closed by the same type of brackets.</li>\n",
    "    <li>Open brackets must be closed in the correct order.</li>\n",
    "    <li>Every close bracket has a corresponding open bracket of the same type.</li>\n",
    "</ul>\n",
    "<div>\n",
    "Example 1:  \n",
    "    \n",
    "Input: s = \"()\"\n",
    "\n",
    "Output: true  \n",
    "</div>\n",
    "<br>\n",
    "<div>\n",
    "    Example 2:\n",
    "\n",
    "Input: s = \"()[]{}\"\n",
    "\n",
    "Output: true\n",
    "</div>\n",
    "<div>\n",
    "Example 3:\n",
    "\n",
    "Input: s = \"(]\"\n",
    "Output: false\n",
    "</div>"
   ]
  },
  {
   "cell_type": "code",
   "execution_count": 3,
   "id": "b06545b1-f11a-4d17-a030-c043db57567b",
   "metadata": {},
   "outputs": [],
   "source": [
    "s = \"()()\"\n",
    "param_count = [i for i in s if i == \"(\" or i == ')']"
   ]
  },
  {
   "cell_type": "code",
   "execution_count": 5,
   "id": "e6b1f0d7-5263-42d9-b318-97d85fd39d58",
   "metadata": {},
   "outputs": [
    {
     "name": "stdout",
     "output_type": "stream",
     "text": [
      "['(', ')', '(', ')']\n"
     ]
    }
   ],
   "source": [
    "print(param_count)"
   ]
  },
  {
   "cell_type": "code",
   "execution_count": 24,
   "id": "5d6eff2a-069a-4623-9749-c20a2682d4a1",
   "metadata": {},
   "outputs": [],
   "source": [
    "valid_characters = ['(',')', '{', '}', '[', ']']\n",
    "s = \"()(){)}(\"\n",
    "paranthesis_list = [i for i in s if i in valid_characters]"
   ]
  },
  {
   "cell_type": "code",
   "execution_count": 26,
   "id": "5d1ade44-d765-4dc0-b675-102273f05df9",
   "metadata": {},
   "outputs": [
    {
     "name": "stdout",
     "output_type": "stream",
     "text": [
      "['(', ')', '(', ')', '{', ')', '}', '(']\n"
     ]
    }
   ],
   "source": [
    "print(paranthesis_list)"
   ]
  },
  {
   "cell_type": "code",
   "execution_count": 28,
   "id": "02d73ca1-c811-47ae-8f2b-92a6f7455a80",
   "metadata": {},
   "outputs": [
    {
     "name": "stdout",
     "output_type": "stream",
     "text": [
      "['{', ')', '}', '(']\n"
     ]
    }
   ],
   "source": [
    "counter_dict = {'(':')', '{':'}', '[':']'}\n",
    "checker = []\n",
    "for i in paranthesis_list:\n",
    "    if len(checker) == 0:\n",
    "        checker.append(i)\n",
    "    elif checker[-1] in counter_dict.keys() and i == counter_dict[checker[-1]]:\n",
    "        checker.pop()\n",
    "    else:\n",
    "        checker.append(i)\n",
    "print(checker)"
   ]
  },
  {
   "cell_type": "code",
   "execution_count": null,
   "id": "0c4e345a-93b0-4dfa-aa93-19c45777f182",
   "metadata": {},
   "outputs": [],
   "source": []
  }
 ],
 "metadata": {
  "kernelspec": {
   "display_name": "Python 3 (ipykernel)",
   "language": "python",
   "name": "python3"
  },
  "language_info": {
   "codemirror_mode": {
    "name": "ipython",
    "version": 3
   },
   "file_extension": ".py",
   "mimetype": "text/x-python",
   "name": "python",
   "nbconvert_exporter": "python",
   "pygments_lexer": "ipython3",
   "version": "3.11.7"
  }
 },
 "nbformat": 4,
 "nbformat_minor": 5
}
