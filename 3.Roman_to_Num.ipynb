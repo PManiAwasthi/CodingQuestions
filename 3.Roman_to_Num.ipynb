{
 "cells": [
  {
   "cell_type": "code",
   "execution_count": 95,
   "id": "6aa5fdff-f784-4ade-9903-eb859e1933cc",
   "metadata": {},
   "outputs": [],
   "source": [
    "roman_dict = {\n",
    "            \"I\" : (1,1),\n",
    "            \"V\" : (2,5),\n",
    "            \"X\" : (3,10),\n",
    "            \"L\" : (4,50),\n",
    "            \"C\" : (5,100),\n",
    "            \"D\" : (6,500),\n",
    "            \"M\" : (7,1000)\n",
    "        }"
   ]
  },
  {
   "cell_type": "code",
   "execution_count": 97,
   "id": "edc579f2-5b02-4801-a915-03f81210c53b",
   "metadata": {},
   "outputs": [],
   "source": [
    "s = \"MCMXCIV\""
   ]
  },
  {
   "cell_type": "code",
   "execution_count": 99,
   "id": "ab281a16-c294-4988-b87b-ea5afeb8b6ac",
   "metadata": {},
   "outputs": [
    {
     "name": "stdout",
     "output_type": "stream",
     "text": [
      "I (1, 1)\n",
      "V (2, 5)\n",
      "X (3, 10)\n",
      "L (4, 50)\n",
      "C (5, 100)\n",
      "D (6, 500)\n",
      "M (7, 1000)\n"
     ]
    }
   ],
   "source": [
    "for i,j in roman_dict.items():\n",
    "    print(i,j)"
   ]
  },
  {
   "cell_type": "code",
   "execution_count": 183,
   "id": "e890959f-bc27-402d-beb1-785ee6470fc0",
   "metadata": {},
   "outputs": [],
   "source": [
    "def get_value(aux_ar):\n",
    "    value = aux_ar[-1][1][1]\n",
    "    inter_val = aux_ar[-1][1][1]\n",
    "    for i in range(len(aux_ar)-2, -1, -1):\n",
    "        if inter_val == aux_ar[i][1][1]:\n",
    "            value = value + aux_ar[i][1][1]\n",
    "        else:\n",
    "            value = value - aux_ar[i][1][1]\n",
    "        inter_val = aux_ar[i][1][1]\n",
    "    return value"
   ]
  },
  {
   "cell_type": "code",
   "execution_count": 191,
   "id": "32a81448-41eb-4c36-9498-5f8a2dbe8abe",
   "metadata": {},
   "outputs": [],
   "source": [
    "def get_sum(s, roman_dict):\n",
    "    aux_ar = []\n",
    "    sum = 0\n",
    "    for i in s:\n",
    "        if len(aux_ar) == 0 or aux_ar[-1][1][0] < roman_dict[i][0] or aux_ar[-1][1][0] == roman_dict[i][0]:\n",
    "            aux_ar.append((i, roman_dict[i]))\n",
    "        elif aux_ar[-1][1][0] > roman_dict[i][0]:\n",
    "            sum = sum + get_value(aux_ar)\n",
    "            aux_ar = []\n",
    "            aux_ar.append((i, roman_dict[i]))\n",
    "    else:\n",
    "        sum = sum + get_value(aux_ar)\n",
    "    return sum"
   ]
  },
  {
   "cell_type": "code",
   "execution_count": 189,
   "id": "b6b7ab45-a0ce-4beb-a4e1-f5f7dc7611ce",
   "metadata": {},
   "outputs": [
    {
     "name": "stdin",
     "output_type": "stream",
     "text": [
      "Enter the roman string: LVIII\n"
     ]
    },
    {
     "name": "stdout",
     "output_type": "stream",
     "text": [
      "[('L', (4, 50))]\n",
      "[('V', (2, 5))]\n",
      "The numercial equivalant of LVIII is : 58\n"
     ]
    }
   ],
   "source": [
    "s = input(\"Enter the roman string:\")\n",
    "print(f\"The numercial equivalant of {s} is : {get_sum(s, roman_dict)}\")"
   ]
  },
  {
   "cell_type": "code",
   "execution_count": null,
   "id": "1d1f4d0f-3a90-475b-8b23-4c7279073564",
   "metadata": {},
   "outputs": [],
   "source": []
  }
 ],
 "metadata": {
  "kernelspec": {
   "display_name": "Python 3 (ipykernel)",
   "language": "python",
   "name": "python3"
  },
  "language_info": {
   "codemirror_mode": {
    "name": "ipython",
    "version": 3
   },
   "file_extension": ".py",
   "mimetype": "text/x-python",
   "name": "python",
   "nbconvert_exporter": "python",
   "pygments_lexer": "ipython3",
   "version": "3.11.7"
  }
 },
 "nbformat": 4,
 "nbformat_minor": 5
}
