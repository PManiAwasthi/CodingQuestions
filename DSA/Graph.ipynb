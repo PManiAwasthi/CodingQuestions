{
 "cells": [
  {
   "cell_type": "markdown",
   "id": "48a5757c-e62f-4f7e-881b-11b049215936",
   "metadata": {},
   "source": [
    "<h3>Making a graph</h3>\n",
    "<h4>Adjacency List</h4>"
   ]
  },
  {
   "cell_type": "code",
   "execution_count": 1,
   "id": "2d83d274-65ef-4111-bbf5-4d400f80abb5",
   "metadata": {},
   "outputs": [],
   "source": [
    "class Edge:\n",
    "    def __init__(self, src, des):\n",
    "        self.src = src\n",
    "        self.des = des"
   ]
  },
  {
   "cell_type": "code",
   "execution_count": 3,
   "id": "abd193a3-e532-4939-adb7-ab3ccef8b7ac",
   "metadata": {},
   "outputs": [],
   "source": [
    "V = 5\n",
    "graph = [[] for _ in range(V)]"
   ]
  },
  {
   "cell_type": "code",
   "execution_count": 5,
   "id": "71be86bc-396d-4d93-b39c-43b48d182228",
   "metadata": {},
   "outputs": [
    {
     "name": "stdout",
     "output_type": "stream",
     "text": [
      "[[], [], [], [], []]\n"
     ]
    }
   ],
   "source": [
    "print(graph)"
   ]
  },
  {
   "cell_type": "code",
   "execution_count": 7,
   "id": "f1ae3ac4-ee72-49dc-9de6-8ad505c67c5c",
   "metadata": {},
   "outputs": [],
   "source": [
    "graph[0].append(Edge(0,2))\n",
    "graph[1].append(Edge(1,2))\n",
    "graph[1].append(Edge(1,3))\n",
    "graph[2].append(Edge(2,0))\n",
    "graph[2].append(Edge(2,1))\n",
    "graph[2].append(Edge(2,3))\n",
    "graph[3].append(Edge(3,1))\n",
    "graph[3].append(Edge(3,2))"
   ]
  },
  {
   "cell_type": "code",
   "execution_count": 9,
   "id": "649a029a-b969-482e-94fe-1ae3f0656f2e",
   "metadata": {},
   "outputs": [
    {
     "name": "stdout",
     "output_type": "stream",
     "text": [
      "Edges of 0 are:\n",
      "2 \n",
      "Edges of 1 are:\n",
      "2 3 \n",
      "Edges of 2 are:\n",
      "0 1 3 \n",
      "Edges of 3 are:\n",
      "1 2 \n",
      "Edges of 4 are:\n",
      "\n"
     ]
    }
   ],
   "source": [
    "for i in range(len(graph)):\n",
    "    print(f\"Edges of {i} are:\")\n",
    "    for j in range(len(graph[i])):\n",
    "        e = graph[i][j]\n",
    "        print(e.des, end = \" \")\n",
    "    print()"
   ]
  },
  {
   "cell_type": "markdown",
   "id": "9b8b408a-5846-4bf2-87bf-4b65eae914d9",
   "metadata": {},
   "source": [
    "<h3>Making a graph 2</h3>\n",
    "<h4>Adjacency Matrix</h4>"
   ]
  },
  {
   "cell_type": "code",
   "execution_count": 12,
   "id": "61446d9a-4720-4aae-a6b3-8f338912b070",
   "metadata": {},
   "outputs": [],
   "source": [
    "V = 4\n",
    "graph = [[0 for _ in range(V)] for _ in range(V)]"
   ]
  },
  {
   "cell_type": "code",
   "execution_count": 14,
   "id": "a44254bf-4b3a-4617-8931-a5631b7d13ed",
   "metadata": {},
   "outputs": [
    {
     "data": {
      "text/plain": [
       "[[0, 0, 0, 0], [0, 0, 0, 0], [0, 0, 0, 0], [0, 0, 0, 0]]"
      ]
     },
     "execution_count": 14,
     "metadata": {},
     "output_type": "execute_result"
    }
   ],
   "source": [
    "graph"
   ]
  },
  {
   "cell_type": "code",
   "execution_count": 16,
   "id": "c439584d-3f7b-43f3-85ea-ed79b54fdc8d",
   "metadata": {},
   "outputs": [],
   "source": [
    "graph[0][2] = 1\n",
    "graph[1][2] = 1\n",
    "graph[1][3] = 1\n",
    "graph[2][0] = 1\n",
    "graph[2][1] = 1\n",
    "graph[2][3] = 1\n",
    "graph[3][1] = 1\n",
    "graph[3][2] = 1"
   ]
  },
  {
   "cell_type": "code",
   "execution_count": 18,
   "id": "95355ba1-7b44-49ea-9a03-37516d967a9f",
   "metadata": {},
   "outputs": [
    {
     "name": "stdout",
     "output_type": "stream",
     "text": [
      "Edges of 0 are:\n",
      "2 \n",
      "Edges of 1 are:\n",
      "2 3 \n",
      "Edges of 2 are:\n",
      "0 1 3 \n",
      "Edges of 3 are:\n",
      "1 2 \n"
     ]
    }
   ],
   "source": [
    "for i in range(V):\n",
    "    print(f\"Edges of {i} are:\")\n",
    "    for j in range(V):\n",
    "        if graph[i][j] == 1:\n",
    "            print(j, end=\" \")\n",
    "    print()"
   ]
  },
  {
   "cell_type": "markdown",
   "id": "22431202-c4ca-45e3-a285-9a30a57e0ab4",
   "metadata": {},
   "source": [
    "<h3>Making a graph 3</h3>\n",
    "<h4>Edge list</h4>"
   ]
  },
  {
   "cell_type": "code",
   "execution_count": 21,
   "id": "0625892f-c782-488d-b373-c410c766fc48",
   "metadata": {},
   "outputs": [],
   "source": [
    "e = []\n",
    "e.append((0,2))\n",
    "e.append((1,2))\n",
    "e.append((1,3))\n",
    "e.append((2,0))\n",
    "e.append((2,1))\n",
    "e.append((2,3))\n",
    "e.append((3,1))\n",
    "e.append((3,2))"
   ]
  },
  {
   "cell_type": "code",
   "execution_count": 23,
   "id": "293709af-99f1-4de5-a399-ba25e8cfb670",
   "metadata": {},
   "outputs": [
    {
     "name": "stdout",
     "output_type": "stream",
     "text": [
      "[(0, 2), (1, 2), (1, 3), (2, 0), (2, 1), (2, 3), (3, 1), (3, 2)]\n"
     ]
    }
   ],
   "source": [
    "print(e)"
   ]
  },
  {
   "cell_type": "markdown",
   "id": "d1d82d97-1207-456b-8e01-74f323c2ca00",
   "metadata": {},
   "source": [
    "<h3>Breadth First Search</h3>"
   ]
  },
  {
   "cell_type": "code",
   "execution_count": 76,
   "id": "80832b06-81d5-47cc-90e3-6af8d5c54e82",
   "metadata": {},
   "outputs": [],
   "source": [
    "from collections import deque\n",
    "def bfs(graph, s, visited):\n",
    "    q = deque()\n",
    "    q.append(s)\n",
    "    while q:\n",
    "        node = q.popleft()\n",
    "        if visited[node] == False:\n",
    "            visited[node] = True\n",
    "            print(node, end = \" \")\n",
    "            for e in graph[node]:\n",
    "                q.append(e.des)\n",
    "    print()"
   ]
  },
  {
   "cell_type": "code",
   "execution_count": 114,
   "id": "7813a689-bb63-4e09-9a08-f731147ffb7b",
   "metadata": {},
   "outputs": [],
   "source": [
    "class Edge:\n",
    "    def __init__(self, src, des):\n",
    "        self.src = src\n",
    "        self.des = des\n",
    "\n",
    "V = 9\n",
    "graph = [[] for _ in range(V)]\n",
    "visited = [False for _ in range(V)]\n",
    "\n",
    "graph[0].append(Edge(0,1))\n",
    "graph[0].append(Edge(0,2))\n",
    "graph[1].append(Edge(1,0))\n",
    "graph[1].append(Edge(1,3))\n",
    "graph[2].append(Edge(2,0))\n",
    "graph[2].append(Edge(2,4))\n",
    "graph[3].append(Edge(3,1))\n",
    "graph[3].append(Edge(3,4))\n",
    "graph[3].append(Edge(3,5))\n",
    "graph[4].append(Edge(4,2))\n",
    "graph[4].append(Edge(4,3))\n",
    "graph[4].append(Edge(4,5))\n",
    "graph[5].append(Edge(5,3))\n",
    "graph[5].append(Edge(5,4))\n",
    "graph[5].append(Edge(5,6))\n",
    "graph[6].append(Edge(6,5))\n",
    "graph[7].append(Edge(7,8))\n",
    "graph[8].append(Edge(8,7))"
   ]
  },
  {
   "cell_type": "code",
   "execution_count": 80,
   "id": "551d013d-2cc5-42b2-927d-1256a2a27ebe",
   "metadata": {},
   "outputs": [
    {
     "name": "stdout",
     "output_type": "stream",
     "text": [
      "0 1 2 3 4 5 6 \n",
      "7 8 \n"
     ]
    }
   ],
   "source": [
    "for i in range(len(graph)):\n",
    "    if visited[i] == False:\n",
    "        bfs(graph, i, visited)"
   ]
  },
  {
   "cell_type": "markdown",
   "id": "e5c923ab-eea0-45ad-a88a-8169dba7735b",
   "metadata": {},
   "source": [
    "<h3>Depth First Search</h3>"
   ]
  },
  {
   "cell_type": "code",
   "execution_count": 108,
   "id": "e51a5fa6-cf4b-4460-8425-e3ca54695ba1",
   "metadata": {},
   "outputs": [],
   "source": [
    "def dfs(graph, source, visited):\n",
    "    if visited[source] == True:\n",
    "        return\n",
    "    print(source, end=\" \")\n",
    "    visited[source] = True\n",
    "    for e in graph[source]:\n",
    "        dfs(graph, e.des, visited)"
   ]
  },
  {
   "cell_type": "code",
   "execution_count": 112,
   "id": "27556d8a-4fa8-407f-9f6c-c9cf853e0aa6",
   "metadata": {},
   "outputs": [
    {
     "name": "stdout",
     "output_type": "stream",
     "text": [
      "0 1 3 4 2 5 6 \n",
      "7 8 \n"
     ]
    }
   ],
   "source": [
    "for i in range(len(graph)):\n",
    "    if visited[i] == False:\n",
    "        dfs(graph, i, visited)\n",
    "        print()"
   ]
  },
  {
   "cell_type": "markdown",
   "id": "696a9ed5-0278-405d-a7c0-d9844bb788fb",
   "metadata": {},
   "source": [
    "<h3>All paths from source to target</h3>"
   ]
  },
  {
   "cell_type": "code",
   "execution_count": 205,
   "id": "ef6e68b7-8248-4af6-9736-894c33e0ed78",
   "metadata": {},
   "outputs": [],
   "source": [
    "def allPath(graph, source, destination, visited, path):\n",
    "    path += str(source)\n",
    "    if source == destination:\n",
    "        print(path)\n",
    "        return\n",
    "    \n",
    "    for i in graph[source]:\n",
    "        if visited[i.des] == False:\n",
    "            visited[i.src] = True\n",
    "            allPath(graph, i.des, destination, visited, path)\n",
    "            visited[i.src] = False"
   ]
  },
  {
   "cell_type": "code",
   "execution_count": 207,
   "id": "c717c211-d5ae-46f7-8482-3f22517352e1",
   "metadata": {},
   "outputs": [],
   "source": [
    "class Edge:\n",
    "    def __init__(self, src, des):\n",
    "        self.src = src\n",
    "        self.des = des\n",
    "\n",
    "V = 7\n",
    "graph = [[] for _ in range(V)]\n",
    "visited = [False for _ in range(V)]\n",
    "\n",
    "graph[0].append(Edge(0,1))\n",
    "graph[0].append(Edge(0,2))\n",
    "graph[1].append(Edge(1,0))\n",
    "graph[1].append(Edge(1,3))\n",
    "graph[2].append(Edge(2,0))\n",
    "graph[2].append(Edge(2,4))\n",
    "graph[3].append(Edge(3,1))\n",
    "graph[3].append(Edge(3,4))\n",
    "graph[3].append(Edge(3,5))\n",
    "graph[4].append(Edge(4,2))\n",
    "graph[4].append(Edge(4,3))\n",
    "graph[4].append(Edge(4,5))\n",
    "graph[5].append(Edge(5,3))\n",
    "graph[5].append(Edge(5,4))\n",
    "graph[5].append(Edge(5,6))\n",
    "graph[6].append(Edge(6,5))"
   ]
  },
  {
   "cell_type": "code",
   "execution_count": 209,
   "id": "be2dff1e-07e2-4c56-9b12-0b5a9685b946",
   "metadata": {},
   "outputs": [
    {
     "name": "stdout",
     "output_type": "stream",
     "text": [
      "01345\n",
      "0135\n",
      "02435\n",
      "0245\n"
     ]
    }
   ],
   "source": [
    "allPath(graph, 0, 5, visited, \"\")"
   ]
  },
  {
   "cell_type": "markdown",
   "id": "d7edff65-f2cb-4d2a-a1e3-b61d05d8acdb",
   "metadata": {},
   "source": []
  },
  {
   "cell_type": "code",
   "execution_count": null,
   "id": "f713f4dd-67a2-4dd4-b092-284d537691a7",
   "metadata": {},
   "outputs": [],
   "source": []
  }
 ],
 "metadata": {
  "kernelspec": {
   "display_name": "Python 3 (ipykernel)",
   "language": "python",
   "name": "python3"
  },
  "language_info": {
   "codemirror_mode": {
    "name": "ipython",
    "version": 3
   },
   "file_extension": ".py",
   "mimetype": "text/x-python",
   "name": "python",
   "nbconvert_exporter": "python",
   "pygments_lexer": "ipython3",
   "version": "3.11.7"
  }
 },
 "nbformat": 4,
 "nbformat_minor": 5
}
