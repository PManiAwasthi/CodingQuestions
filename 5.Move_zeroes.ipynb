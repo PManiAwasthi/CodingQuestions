{
 "cells": [
  {
   "cell_type": "code",
   "execution_count": 13,
   "id": "334fccb7-24cd-408c-9be7-232729208b25",
   "metadata": {},
   "outputs": [
    {
     "name": "stdout",
     "output_type": "stream",
     "text": [
      "[0, 1, 0, 3, 12]\n"
     ]
    }
   ],
   "source": [
    "from typing import List\n",
    "nums = [0,1,0,3,12]\n",
    "\n",
    "def move_zeroes(nums: List[int])->None:\n",
    "    count = 0\n",
    "    for i in nums:\n",
    "        if i == 0:\n",
    "            count += 1\n",
    "    nums = [i for i in nums if i != 0]\n",
    "    nums.extend([0]*count)\n",
    "move_zeroes(nums)\n",
    "print(nums)"
   ]
  },
  {
   "cell_type": "code",
   "execution_count": 15,
   "id": "e9cc3735-d259-4162-807b-988a7bb057c9",
   "metadata": {},
   "outputs": [
    {
     "name": "stdout",
     "output_type": "stream",
     "text": [
      "[1, 3, 12, 0, 0]\n"
     ]
    }
   ],
   "source": [
    "from typing import List\n",
    "\n",
    "nums = [0, 1, 0, 3, 12]\n",
    "\n",
    "def move_zeroes(nums: List[int]) -> None:\n",
    "    non_zero_index = 0\n",
    "    # Move all non-zero elements to the front of the list\n",
    "    for i in range(len(nums)):\n",
    "        if nums[i] != 0:\n",
    "            nums[non_zero_index] = nums[i]\n",
    "            non_zero_index += 1\n",
    "    # Fill the remaining positions with zeros\n",
    "    for i in range(non_zero_index, len(nums)):\n",
    "        nums[i] = 0\n",
    "\n",
    "move_zeroes(nums)\n",
    "print(nums)"
   ]
  },
  {
   "cell_type": "code",
   "execution_count": null,
   "id": "7b595e58-7d7c-41d2-8b0c-af79a900d138",
   "metadata": {},
   "outputs": [],
   "source": []
  }
 ],
 "metadata": {
  "kernelspec": {
   "display_name": "Python 3 (ipykernel)",
   "language": "python",
   "name": "python3"
  },
  "language_info": {
   "codemirror_mode": {
    "name": "ipython",
    "version": 3
   },
   "file_extension": ".py",
   "mimetype": "text/x-python",
   "name": "python",
   "nbconvert_exporter": "python",
   "pygments_lexer": "ipython3",
   "version": "3.11.7"
  }
 },
 "nbformat": 4,
 "nbformat_minor": 5
}
