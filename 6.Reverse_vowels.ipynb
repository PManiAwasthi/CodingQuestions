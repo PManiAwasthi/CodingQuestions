{
 "cells": [
  {
   "attachments": {},
   "cell_type": "markdown",
   "id": "9d8550f6-d1e4-4bc2-bddf-70b0100ea0da",
   "metadata": {},
   "source": [
    "### Reverse Vowels of a String\n",
    "Given a string s, reverse only all the vowels in the string and return it.\n",
    "\n",
    "The vowels are 'a', 'e', 'i', 'o', and 'u', and they can appear in both lower and upper cases, more than once."
   ]
  },
  {
   "attachments": {
    "415514ad-6688-4d3b-8149-17e13f6e0db9.png": {
     "image/png": "[encoded data removed]"
    }
   },
   "cell_type": "markdown",
   "id": "b726119e-90e2-44b2-8980-59b064a5cbe4",
   "metadata": {},
   "source": [
    "![image.png](attachment:415514ad-6688-4d3b-8149-17e13f6e0db9.png)"
   ]
  },
  {
   "cell_type": "code",
   "execution_count": 24,
   "id": "9c14bf6f-e891-4adc-ab31-1ddd4c5ff66d",
   "metadata": {},
   "outputs": [
    {
     "name": "stdin",
     "output_type": "stream",
     "text": [
      "Enter the string: leetcode\n"
     ]
    }
   ],
   "source": [
    "s = input(\"Enter the string:\")"
   ]
  },
  {
   "cell_type": "code",
   "execution_count": 26,
   "id": "17440668-90ad-4cfc-9483-80e33b42226e",
   "metadata": {},
   "outputs": [],
   "source": [
    "array_vowels = ['a', 'e', 'i', 'o', 'u', 'A', 'E', 'I', 'O', 'U']"
   ]
  },
  {
   "cell_type": "code",
   "execution_count": 28,
   "id": "cb4bbc41-2f05-4560-ab9d-2e696155f90c",
   "metadata": {},
   "outputs": [
    {
     "name": "stdout",
     "output_type": "stream",
     "text": [
      "['e', 'e', 'o', 'e'] [1, 2, 5, 7]\n"
     ]
    }
   ],
   "source": [
    "num = 0\n",
    "vowels_in_string = []\n",
    "index_of_vowels = []\n",
    "for i in s:\n",
    "    if i in array_vowels:\n",
    "        vowels_in_string.append(i)\n",
    "        index_of_vowels.append(num)\n",
    "    num += 1\n",
    "print(vowels_in_string, index_of_vowels)"
   ]
  },
  {
   "cell_type": "code",
   "execution_count": 30,
   "id": "c8b0c918-dd6f-40d5-80f6-7312739f5440",
   "metadata": {},
   "outputs": [
    {
     "name": "stdout",
     "output_type": "stream",
     "text": [
      "['l', 'e', 'e', 't', 'c', 'o', 'd', 'e']\n"
     ]
    }
   ],
   "source": [
    "s_array = [i for i in s]\n",
    "print(s_array)"
   ]
  },
  {
   "cell_type": "code",
   "execution_count": 32,
   "id": "c80fbeb4-9e9f-421c-8473-8a58ad2e8837",
   "metadata": {},
   "outputs": [
    {
     "name": "stdout",
     "output_type": "stream",
     "text": [
      "[7, 5, 2, 1]\n"
     ]
    }
   ],
   "source": [
    "index_of_vowels_reverse = index_of_vowels[::-1]\n",
    "print(index_of_vowels_reverse)"
   ]
  },
  {
   "cell_type": "code",
   "execution_count": 34,
   "id": "17183770-04cf-41c0-b6fb-27d5dbad4481",
   "metadata": {},
   "outputs": [
    {
     "name": "stdout",
     "output_type": "stream",
     "text": [
      "['l', 'e', 'o', 't', 'c', 'e', 'd', 'e']\n"
     ]
    }
   ],
   "source": [
    "for i,z in zip(index_of_vowels_reverse, vowels_in_string):\n",
    "    s_array[i] = z\n",
    "print(s_array)"
   ]
  },
  {
   "cell_type": "code",
   "execution_count": 38,
   "id": "27dc066a-2639-4644-9581-025d4040cc77",
   "metadata": {},
   "outputs": [
    {
     "name": "stdout",
     "output_type": "stream",
     "text": [
      "leotcede\n"
     ]
    }
   ],
   "source": [
    "s_final = \"\".join(s_array)\n",
    "print(s_final)"
   ]
  },
  {
   "cell_type": "code",
   "execution_count": 1,
   "id": "9c000799-edd8-44df-81a9-c0599aefe82f",
   "metadata": {},
   "outputs": [],
   "source": [
    "def reverseVowels(s: str) -> str:\n",
    "    vowels = [\"a\", \"e\", \"i\", \"o\", \"u\", \"A\", \"E\", \"I\", \"O\", \"U\"]\n",
    "    s_list = [i for i in s]\n",
    "    vowel_list = []\n",
    "    vowel_position = []\n",
    "    for i in range(len(s_list)):\n",
    "        if s_list[i] in vowels:\n",
    "            vowel_list.append(s_list[i])\n",
    "            vowel_position.append(i)\n",
    "    vowel_position = vowel_position[::-1]\n",
    "    for i in range(len(vowel_list)):\n",
    "        s_list[vowel_position[i]] = vowel_list[i]\n",
    "    s = \"\".join(s_list)\n",
    "    return s"
   ]
  },
  {
   "cell_type": "code",
   "execution_count": 3,
   "id": "7a3583f0-3a22-4717-8d18-3c36379bc366",
   "metadata": {},
   "outputs": [
    {
     "data": {
      "text/plain": [
       "'holle'"
      ]
     },
     "execution_count": 3,
     "metadata": {},
     "output_type": "execute_result"
    }
   ],
   "source": [
    "reverseVowels(\"hello\")"
   ]
  },
  {
   "cell_type": "code",
   "execution_count": 9,
   "id": "04585ab4-0ef1-4e32-b780-89bae2198b40",
   "metadata": {},
   "outputs": [
    {
     "name": "stdin",
     "output_type": "stream",
     "text": [
      " hello\n"
     ]
    },
    {
     "ename": "KeyboardInterrupt",
     "evalue": "",
     "output_type": "error",
     "traceback": [
      "\u001b[1;31m---------------------------------------------------------------------------\u001b[0m",
      "\u001b[1;31mKeyboardInterrupt\u001b[0m                         Traceback (most recent call last)",
      "Cell \u001b[1;32mIn[9], line 7\u001b[0m\n\u001b[0;32m      5\u001b[0m j \u001b[38;5;241m=\u001b[39m \u001b[38;5;28mlen\u001b[39m(s_list) \u001b[38;5;241m-\u001b[39m \u001b[38;5;241m1\u001b[39m\n\u001b[0;32m      6\u001b[0m counter \u001b[38;5;241m=\u001b[39m \u001b[38;5;241m0\u001b[39m\n\u001b[1;32m----> 7\u001b[0m \u001b[38;5;28;01mwhile\u001b[39;00m i \u001b[38;5;241m<\u001b[39m j:\n\u001b[0;32m      8\u001b[0m     \u001b[38;5;28;01mif\u001b[39;00m s_list[i] \u001b[38;5;129;01min\u001b[39;00m vowels \u001b[38;5;129;01mand\u001b[39;00m s_list[j] \u001b[38;5;129;01min\u001b[39;00m vowels:\n\u001b[0;32m      9\u001b[0m         s_list[i], s_list[j] \u001b[38;5;241m=\u001b[39m s_list[j], s_list[i]\n",
      "\u001b[1;31mKeyboardInterrupt\u001b[0m: "
     ]
    }
   ],
   "source": [
    "s = input()\n",
    "vowels = [\"a\", \"e\", \"i\", \"o\", \"u\", \"A\", \"E\", \"I\", \"O\", \"U\"]\n",
    "s_list = [i for i in s]\n",
    "i = 0\n",
    "j = len(s_list) - 1\n",
    "counter = 0\n",
    "while i < j:\n",
    "    if s_list[i] in vowels and s_list[j] in vowels:\n",
    "        s_list[i], s_list[j] = s_list[j], s_list[i]\n",
    "        i += 1\n",
    "        j -= 1\n",
    "print(s_list)"
   ]
  },
  {
   "cell_type": "code",
   "execution_count": null,
   "id": "e0bd240a-7bbc-4cbc-a50f-8f547938fd84",
   "metadata": {},
   "outputs": [],
   "source": []
  }
 ],
 "metadata": {
  "kernelspec": {
   "display_name": "Python 3 (ipykernel)",
   "language": "python",
   "name": "python3"
  },
  "language_info": {
   "codemirror_mode": {
    "name": "ipython",
    "version": 3
   },
   "file_extension": ".py",
   "mimetype": "text/x-python",
   "name": "python",
   "nbconvert_exporter": "python",
   "pygments_lexer": "ipython3",
   "version": "3.11.7"
  }
 },
 "nbformat": 4,
 "nbformat_minor": 5
}
